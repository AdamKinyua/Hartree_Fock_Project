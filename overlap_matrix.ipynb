{
 "cells": [
  {
   "cell_type": "markdown",
   "metadata": {
    "collapsed": true,
    "pycharm": {
     "name": "#%% md\n"
    }
   },
   "source": [
    "FC = eSC\n",
    "C = Coefficient matrix. Rows are atomic orbitals and columns are molecular orbitals\n",
    "F is Fock-operator constituting of electron kinetic energy(T), Nuclear_electron repulsion, and electron-electron repulsion\n",
    "F = T + V_NE + V_EE\n",
    "S = overlap matrix (rows and columns will be our basis functions, just a series of primitive gaussian functions\n",
    "We will first do H2 (only s orbitals) and then H2O"
   ]
  },
  {
   "cell_type": "code",
   "execution_count": 7,
   "metadata": {
    "pycharm": {
     "name": "#%%\n"
    }
   },
   "outputs": [],
   "source": [
    "import sys\n",
    "import numpy as np\n",
    "import math"
   ]
  },
  {
   "cell_type": "code",
   "execution_count": 12,
   "metadata": {
    "pycharm": {
     "name": "#%%\n"
    }
   },
   "outputs": [],
   "source": [
    "class PrimitiveGaussian:\n",
    "    def __init__ (self, alpha, contraction_coefficient, coordinates, l1, l2, l3): #l1,l2,l3 are angular momentum, they do not exist for s-orbitals\n",
    "        self.alpha = alpha\n",
    "        self.contraction_coefficient = contraction_coefficient\n",
    "        self.coordinates = np.array(coordinates)\n",
    "        self.A = (2.0 * alpha/math.pi)**0.75 #plus l1, l2, l3 whenever present #A is normalization constant"
   ]
  },
  {
   "cell_type": "code",
   "execution_count": 17,
   "metadata": {
    "pycharm": {
     "name": "#%%\n"
    }
   },
   "outputs": [],
   "source": [
    "def overlap(molecule):\n",
    "    nbasis = len(molecule) #this is going to be two\n",
    "    #S will be a two by two zeroes matrix\n",
    "    S = np.zeros([nbasis, nbasis])\n",
    "    #now we need to loop over each basis function\n",
    "    for i in range(nbasis):\n",
    "        for j in range(nbasis):\n",
    "            \n",
    "            nprimitives_i = len(molecule[i])\n",
    "            nprimitives_j = len(molecule[j])\n",
    "\n",
    "            for k in range(nprimitives_i):\n",
    "                for l in range(nprimitives_j):\n",
    "                    #multiplying normalization constants to get the overall normalization constant\n",
    "                    N = molecule[i][k].A * molecule[j][l].A\n",
    "                    p = molecule[i][k].alpha + molecule[j][l].alpha\n",
    "                    q = molecule[i][k].alpha * molecule[j][l].alpha / p\n",
    "                    Q = molecule[i][k].coordinates - molecule[j][l].coordinates\n",
    "                    Q2 = np.dot(Q,Q) #dot product\n",
    "                    \n",
    "                    S[i,j] += N * molecule[i][k].contraction_coefficient * molecule[j][l].contraction_coefficient * math.exp(-q*Q2) * (math.pi/p)**(3/2)\n",
    "    return S"
   ]
  },
  {
   "cell_type": "code",
   "execution_count": 20,
   "metadata": {
    "pycharm": {
     "name": "#%%\n"
    }
   },
   "outputs": [
    {
     "name": "stdout",
     "output_type": "stream",
     "text": [
      "\n",
      "STO3G Overlap_Matrix: \n",
      "\n",
      "[[1.         0.72864938]\n",
      " [0.72864938 1.        ]]\n",
      "\n",
      "\n",
      "6-31G Overlap_Matrix: \n",
      "\n",
      "[[1.         0.65829197 1.         0.54474596]\n",
      " [0.65829197 1.         0.65829197 0.89036838]\n",
      " [1.         0.65829197 1.         0.54474596]\n",
      " [0.54474596 0.89036838 0.54474596 1.        ]]\n",
      "\n"
     ]
    }
   ],
   "source": [
    "#define H1_1s\n",
    "#Used Basis Set Exchange to get the primitive gaussian sets for each\n",
    "#STO-3G s-orbitals on Hydrogen.\n",
    "#The two hydrogens are along x-axis at x=0 and x = 1.2\n",
    "H1_pga = PrimitiveGaussian(0.3425250914E+01, 0.1543289673E+00, [0,0,0], 0, 0, 0)\n",
    "H1_pgb = PrimitiveGaussian(0.6239137298E+00, 0.5353281423E+00, [0,0,0], 0, 0, 0)\n",
    "H1_pgc = PrimitiveGaussian(0.1688554040E+00, 0.4446345422E+00, [0,0,0], 0, 0, 0)\n",
    "H2_pga = PrimitiveGaussian(0.3425250914E+01, 0.1543289673E+00, [1.2,0,0], 0, 0, 0)\n",
    "H2_pgb = PrimitiveGaussian(0.6239137298E+00, 0.5353281423E+00, [1.2,0,0], 0, 0, 0)\n",
    "H2_pgc = PrimitiveGaussian(0.1688554040E+00, 0.4446345422E+00, [1.2,0,0], 0, 0, 0)\n",
    "H1_1s = [H1_pga, H1_pgb, H1_pgc]  #pg is for primitive gaussian,\n",
    "H2_1s = [H2_pga, H2_pgb, H2_pgc]   #Using STO-3G basis sets\n",
    "molecule = [H1_1s, H2_1s] #Hydrogen molecule constituting of hydrogen 1 and hydrogen 2 both which have 1s orbitals [Just two basis functions, each centered on each hydrogen and each is based on basis functions\n",
    "print(f\"\"\"\n",
    "STO3G Overlap_Matrix: \n",
    "\n",
    "{overlap(molecule)}\n",
    "\"\"\")\n",
    "\n",
    "###########################\n",
    "###########################\n",
    "\n",
    "#6-31G basis for 1s and 2s orbitals on hydrogen\n",
    "#satrt backwards as always\n",
    "H1_pga = PrimitiveGaussian(0.1873113696E+02, 0.3349460434E-01, [0,0,0], 0, 0, 0)\n",
    "H1_pgb = PrimitiveGaussian(0.2825394365E+01, 0.2347269535E+00, [0,0,0], 0, 0, 0)\n",
    "H1_pgc = PrimitiveGaussian(0.6401216923E+00, 0.8137573261E+00, [0,0,0], 0, 0, 0)\n",
    "H2_pga = PrimitiveGaussian(0.1873113696E+02, 0.3349460434E-01, [1.2,0,0], 0, 0, 0)\n",
    "H2_pgb = PrimitiveGaussian(0.2825394365E+01, 0.2347269535E+00, [1.2,0,0], 0, 0, 0)\n",
    "H2_pgc = PrimitiveGaussian(0.6401216923E+000, 0.8137573261E+00, [1.2,0,0], 0, 0, 0)\n",
    "H1_pg2a = PrimitiveGaussian(0.1612777588E+00, 1.0000000, [0,0,0], 0, 0, 0)\n",
    "H2_pg2a = PrimitiveGaussian(0.1612777588E+00, 1.0000000, [1.2,0,0], 0, 0, 0)\n",
    "H1_1s = [H1_pga, H1_pgb, H1_pgc]\n",
    "H1_2s = [H1_pg2a]\n",
    "H2_1s = [H1_pga, H1_pgb, H1_pgc]\n",
    "H2_2s = [H2_pg2a]\n",
    "molecule = [H1_1s, H1_2s, H2_1s, H2_2s] #meaning we will now have four basis functions\n",
    "\n",
    "\n",
    "\n",
    "print(f\"\"\"\n",
    "6-31G Overlap_Matrix: \n",
    "\n",
    "{overlap(molecule)}\n",
    "\"\"\")"
   ]
  },
  {
   "cell_type": "markdown",
   "metadata": {},
   "source": []
  },
  {
   "cell_type": "code",
   "execution_count": null,
   "metadata": {},
   "outputs": [],
   "source": []
  }
 ],
 "metadata": {
  "kernelspec": {
   "display_name": "Python 3 (ipykernel)",
   "language": "python",
   "name": "python3"
  },
  "language_info": {
   "codemirror_mode": {
    "name": "ipython",
    "version": 3
   },
   "file_extension": ".py",
   "mimetype": "text/x-python",
   "name": "python",
   "nbconvert_exporter": "python",
   "pygments_lexer": "ipython3",
   "version": "3.7.4"
  }
 },
 "nbformat": 4,
 "nbformat_minor": 1
}